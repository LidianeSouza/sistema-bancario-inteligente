{
 "cells": [
  {
   "cell_type": "markdown",
   "id": "9e7b430d",
   "metadata": {},
   "source": [
    "\n",
    "# 💰 Sistema Bancário Inteligente com Python\n",
    "\n",
    "Este projeto simula um sistema bancário simples com funcionalidades modernas, como análise de gastos, previsão de saldo, sugestões de investimento e alertas inteligentes.\n",
    "\n",
    "---\n",
    "### 📌 Funcionalidades:\n",
    "✅ Depósito, saque e extrato bancário  \n",
    "✅ Análise de gastos com categorias  \n",
    "✅ Sugestão de investimentos personalizados  \n",
    "✅ Gráficos interativos e animações  \n",
    "✅ Previsão de saldo baseada em movimentações anteriores  \n",
    "✅ Alertas financeiros inteligentes  \n"
   ]
  },
  {
   "cell_type": "code",
   "execution_count": null,
   "id": "0eddf4a5",
   "metadata": {},
   "outputs": [],
   "source": [
    "\n",
    "import pandas as pd\n",
    "import plotly.express as px\n",
    "import datetime\n",
    "from IPython.display import display, Markdown\n",
    "\n",
    "movimentacoes = []\n",
    "saldo = 0.0\n",
    "saques_diarios = 0\n",
    "limite_saque = 500\n",
    "limite_saques_dia = 3\n",
    "hoje = datetime.date.today()\n"
   ]
  },
  {
   "cell_type": "code",
   "execution_count": null,
   "id": "2216698f",
   "metadata": {},
   "outputs": [],
   "source": [
    "\n",
    "def depositar(valor, categoria=\"Outro\"):\n",
    "    global saldo\n",
    "    if valor > 0:\n",
    "        saldo += valor\n",
    "        movimentacoes.append({\"Data\": datetime.datetime.now(), \"Tipo\": \"Depósito\", \"Valor\": valor, \"Categoria\": categoria})\n",
    "        print(\"✅ Depósito realizado com sucesso.\")\n",
    "    else:\n",
    "        print(\"❌ Valor inválido para depósito.\")\n",
    "\n",
    "def sacar(valor, categoria=\"Outro\"):\n",
    "    global saldo, saques_diarios\n",
    "    if saques_diarios >= limite_saques_dia:\n",
    "        print(\"❌ Limite diário de saques atingido.\")\n",
    "    elif valor > limite_saque:\n",
    "        print(\"❌ Valor excede o limite de R$ 500 por saque.\")\n",
    "    elif valor > saldo:\n",
    "        print(\"❌ Saldo insuficiente.\")\n",
    "    else:\n",
    "        saldo -= valor\n",
    "        saques_diarios += 1\n",
    "        movimentacoes.append({\"Data\": datetime.datetime.now(), \"Tipo\": \"Saque\", \"Valor\": valor, \"Categoria\": categoria})\n",
    "        print(\"✅ Saque realizado com sucesso.\")\n",
    "\n",
    "def extrato():\n",
    "    print(\"\\n========= EXTRATO =========\")\n",
    "    if not movimentacoes:\n",
    "        print(\"Não foram realizadas movimentações.\")\n",
    "    else:\n",
    "        for mov in movimentacoes:\n",
    "            print(f\"{mov['Tipo']}: R$ {mov['Valor']:.2f}\")\n",
    "        print(f\"\\nSaldo: R$ {saldo:.2f}\")\n",
    "    print(\"===========================\\n\")\n"
   ]
  },
  {
   "cell_type": "code",
   "execution_count": null,
   "id": "69612e9a",
   "metadata": {},
   "outputs": [],
   "source": [
    "\n",
    "depositar(1000, categoria=\"Salário\")\n",
    "sacar(200, categoria=\"Transporte\")\n",
    "sacar(100, categoria=\"Alimentação\")\n",
    "extrato()\n"
   ]
  },
  {
   "cell_type": "code",
   "execution_count": null,
   "id": "1632d111",
   "metadata": {},
   "outputs": [],
   "source": [
    "\n",
    "df = pd.DataFrame(movimentacoes)\n",
    "df['Data'] = pd.to_datetime(df['Data'])\n",
    "gastos = df[df['Tipo'] == 'Saque']\n",
    "categoria_gastos = gastos.groupby('Categoria')['Valor'].sum().sort_values()\n",
    "\n",
    "fig = px.bar(categoria_gastos, \n",
    "             x=categoria_gastos.values, \n",
    "             y=categoria_gastos.index, \n",
    "             orientation='h',\n",
    "             title=\"💸 Gastos por Categoria\", \n",
    "             labels={'x': 'Total Gasto (R$)', 'y': 'Categoria'})\n",
    "\n",
    "fig.show()\n"
   ]
  },
  {
   "cell_type": "code",
   "execution_count": null,
   "id": "7a20d20f",
   "metadata": {},
   "outputs": [],
   "source": [
    "\n",
    "df['Dia'] = df['Data'].dt.date\n",
    "saldos_diarios = df.groupby('Dia').apply(lambda x: x.apply(lambda row: row['Valor'] if row['Tipo']=='Depósito' else -row['Valor'], axis=1).sum()).cumsum()\n",
    "\n",
    "px.line(x=saldos_diarios.index, y=saldos_diarios.values, labels={'x': 'Data', 'y': 'Saldo (R$)'}, \n",
    "        title='📈 Previsão de Saldo com Base no Histórico').show()\n"
   ]
  },
  {
   "cell_type": "code",
   "execution_count": null,
   "id": "97261e7a",
   "metadata": {},
   "outputs": [],
   "source": [
    "\n",
    "if saldo >= 1000:\n",
    "    print(\"💡 Sugestão: Invista em CDBs ou fundos de renda fixa para maior segurança.\")\n",
    "elif saldo >= 500:\n",
    "    print(\"💡 Sugestão: Que tal guardar parte do seu saldo em uma reserva de emergência?\")\n",
    "else:\n",
    "    print(\"⚠️ Atenção: Priorize reduzir seus gastos antes de investir.\")\n"
   ]
  },
  {
   "cell_type": "code",
   "execution_count": null,
   "id": "3d2ae45f",
   "metadata": {},
   "outputs": [],
   "source": [
    "\n",
    "if gastos['Valor'].sum() > saldo:\n",
    "    print(\"🚨 Alerta: Seus gastos estão maiores que seu saldo atual!\")\n"
   ]
  },
  {
   "cell_type": "code",
   "execution_count": 1,
   "id": "91ff8f8d",
   "metadata": {},
   "outputs": [],
   "source": [
    "from IPython.display import clear_output, display, Image\n",
    "import time\n",
    "\n",
    "def mostrar_personagem_ao_investir():\n",
    "    frames = [\n",
    "        \"🤖💬 Calculando o melhor investimento...\",\n",
    "        \"🤖💬 Analisando mercado 📈...\",\n",
    "        \"🤖💬 Preparando a aplicação 🏦...\",\n",
    "        \"🤖✅ Investimento realizado com sucesso! 💰\"\n",
    "    ]\n",
    "    for frame in frames:\n",
    "        clear_output(wait=True)\n",
    "        print(frame)\n",
    "        time.sleep(1.2)\n"
   ]
  },
  {
   "cell_type": "code",
   "execution_count": 5,
   "id": "f6f23fbb",
   "metadata": {},
   "outputs": [
    {
     "name": "stdout",
     "output_type": "stream",
     "text": [
      "🤖✅ Investimento realizado com sucesso! 💰\n"
     ]
    }
   ],
   "source": [
    "saldo = 1500.0  # Exemplo de saldo inicial\n",
    "\n",
    "aceitou = input(\"Deseja investir R$ 200 no Tesouro Selic? (s/n): \")\n",
    "if aceitou.lower() == 's':\n",
    "    mostrar_personagem_ao_investir()\n",
    "    saldo -= 200  # exemplo de aplicação do valor\n"
   ]
  },
  {
   "cell_type": "code",
   "execution_count": 6,
   "id": "c8b707ba",
   "metadata": {},
   "outputs": [
    {
     "ename": "FileNotFoundError",
     "evalue": "[Errno 2] No such file or directory: 'robozinho_consultor.png'",
     "output_type": "error",
     "traceback": [
      "\u001b[31m---------------------------------------------------------------------------\u001b[39m",
      "\u001b[31mFileNotFoundError\u001b[39m                         Traceback (most recent call last)",
      "\u001b[36mCell\u001b[39m\u001b[36m \u001b[39m\u001b[32mIn[6]\u001b[39m\u001b[32m, line 5\u001b[39m\n\u001b[32m      3\u001b[39m aceitou = \u001b[38;5;28minput\u001b[39m(\u001b[33m\"\u001b[39m\u001b[33mDeseja investir R$ 200 no Tesouro Selic? (s/n): \u001b[39m\u001b[33m\"\u001b[39m)\n\u001b[32m      4\u001b[39m \u001b[38;5;28;01mif\u001b[39;00m aceitou.lower() == \u001b[33m'\u001b[39m\u001b[33ms\u001b[39m\u001b[33m'\u001b[39m:\n\u001b[32m----> \u001b[39m\u001b[32m5\u001b[39m     display(\u001b[43mImage\u001b[49m\u001b[43m(\u001b[49m\u001b[43mfilename\u001b[49m\u001b[43m=\u001b[49m\u001b[33;43m\"\u001b[39;49m\u001b[33;43mrobozinho_consultor.png\u001b[39;49m\u001b[33;43m\"\u001b[39;49m\u001b[43m)\u001b[49m)  \u001b[38;5;66;03m# Substitua com o nome correto do arquivo\u001b[39;00m\n\u001b[32m      6\u001b[39m     saldo -= \u001b[32m200\u001b[39m  \u001b[38;5;66;03m# exemplo de aplicação do valor\u001b[39;00m\n",
      "\u001b[36mFile \u001b[39m\u001b[32m~\\AppData\\Roaming\\Python\\Python313\\site-packages\\IPython\\core\\display.py:1025\u001b[39m, in \u001b[36mImage.__init__\u001b[39m\u001b[34m(self, data, url, filename, format, embed, width, height, retina, unconfined, metadata, alt)\u001b[39m\n\u001b[32m   1023\u001b[39m \u001b[38;5;28mself\u001b[39m.unconfined = unconfined\n\u001b[32m   1024\u001b[39m \u001b[38;5;28mself\u001b[39m.alt = alt\n\u001b[32m-> \u001b[39m\u001b[32m1025\u001b[39m \u001b[38;5;28;43msuper\u001b[39;49m\u001b[43m(\u001b[49m\u001b[43mImage\u001b[49m\u001b[43m,\u001b[49m\u001b[43m \u001b[49m\u001b[38;5;28;43mself\u001b[39;49m\u001b[43m)\u001b[49m\u001b[43m.\u001b[49m\u001b[34;43m__init__\u001b[39;49m\u001b[43m(\u001b[49m\u001b[43mdata\u001b[49m\u001b[43m=\u001b[49m\u001b[43mdata\u001b[49m\u001b[43m,\u001b[49m\u001b[43m \u001b[49m\u001b[43murl\u001b[49m\u001b[43m=\u001b[49m\u001b[43murl\u001b[49m\u001b[43m,\u001b[49m\u001b[43m \u001b[49m\u001b[43mfilename\u001b[49m\u001b[43m=\u001b[49m\u001b[43mfilename\u001b[49m\u001b[43m,\u001b[49m\n\u001b[32m   1026\u001b[39m \u001b[43m        \u001b[49m\u001b[43mmetadata\u001b[49m\u001b[43m=\u001b[49m\u001b[43mmetadata\u001b[49m\u001b[43m)\u001b[49m\n\u001b[32m   1028\u001b[39m \u001b[38;5;28;01mif\u001b[39;00m \u001b[38;5;28mself\u001b[39m.width \u001b[38;5;129;01mis\u001b[39;00m \u001b[38;5;28;01mNone\u001b[39;00m \u001b[38;5;129;01mand\u001b[39;00m \u001b[38;5;28mself\u001b[39m.metadata.get(\u001b[33m'\u001b[39m\u001b[33mwidth\u001b[39m\u001b[33m'\u001b[39m, {}):\n\u001b[32m   1029\u001b[39m     \u001b[38;5;28mself\u001b[39m.width = metadata[\u001b[33m'\u001b[39m\u001b[33mwidth\u001b[39m\u001b[33m'\u001b[39m]\n",
      "\u001b[36mFile \u001b[39m\u001b[32m~\\AppData\\Roaming\\Python\\Python313\\site-packages\\IPython\\core\\display.py:343\u001b[39m, in \u001b[36mDisplayObject.__init__\u001b[39m\u001b[34m(self, data, url, filename, metadata)\u001b[39m\n\u001b[32m    340\u001b[39m \u001b[38;5;28;01melif\u001b[39;00m \u001b[38;5;28mself\u001b[39m.metadata \u001b[38;5;129;01mis\u001b[39;00m \u001b[38;5;28;01mNone\u001b[39;00m:\n\u001b[32m    341\u001b[39m     \u001b[38;5;28mself\u001b[39m.metadata = {}\n\u001b[32m--> \u001b[39m\u001b[32m343\u001b[39m \u001b[38;5;28;43mself\u001b[39;49m\u001b[43m.\u001b[49m\u001b[43mreload\u001b[49m\u001b[43m(\u001b[49m\u001b[43m)\u001b[49m\n\u001b[32m    344\u001b[39m \u001b[38;5;28mself\u001b[39m._check_data()\n",
      "\u001b[36mFile \u001b[39m\u001b[32m~\\AppData\\Roaming\\Python\\Python313\\site-packages\\IPython\\core\\display.py:1060\u001b[39m, in \u001b[36mImage.reload\u001b[39m\u001b[34m(self)\u001b[39m\n\u001b[32m   1058\u001b[39m \u001b[38;5;250m\u001b[39m\u001b[33;03m\"\"\"Reload the raw data from file or URL.\"\"\"\u001b[39;00m\n\u001b[32m   1059\u001b[39m \u001b[38;5;28;01mif\u001b[39;00m \u001b[38;5;28mself\u001b[39m.embed:\n\u001b[32m-> \u001b[39m\u001b[32m1060\u001b[39m     \u001b[38;5;28;43msuper\u001b[39;49m\u001b[43m(\u001b[49m\u001b[43mImage\u001b[49m\u001b[43m,\u001b[49m\u001b[38;5;28;43mself\u001b[39;49m\u001b[43m)\u001b[49m\u001b[43m.\u001b[49m\u001b[43mreload\u001b[49m\u001b[43m(\u001b[49m\u001b[43m)\u001b[49m\n\u001b[32m   1061\u001b[39m     \u001b[38;5;28;01mif\u001b[39;00m \u001b[38;5;28mself\u001b[39m.retina:\n\u001b[32m   1062\u001b[39m         \u001b[38;5;28mself\u001b[39m._retina_shape()\n",
      "\u001b[36mFile \u001b[39m\u001b[32m~\\AppData\\Roaming\\Python\\Python313\\site-packages\\IPython\\core\\display.py:369\u001b[39m, in \u001b[36mDisplayObject.reload\u001b[39m\u001b[34m(self)\u001b[39m\n\u001b[32m    367\u001b[39m \u001b[38;5;28;01mif\u001b[39;00m \u001b[38;5;28mself\u001b[39m.filename \u001b[38;5;129;01mis\u001b[39;00m \u001b[38;5;129;01mnot\u001b[39;00m \u001b[38;5;28;01mNone\u001b[39;00m:\n\u001b[32m    368\u001b[39m     encoding = \u001b[38;5;28;01mNone\u001b[39;00m \u001b[38;5;28;01mif\u001b[39;00m \u001b[33m\"\u001b[39m\u001b[33mb\u001b[39m\u001b[33m\"\u001b[39m \u001b[38;5;129;01min\u001b[39;00m \u001b[38;5;28mself\u001b[39m._read_flags \u001b[38;5;28;01melse\u001b[39;00m \u001b[33m\"\u001b[39m\u001b[33mutf-8\u001b[39m\u001b[33m\"\u001b[39m\n\u001b[32m--> \u001b[39m\u001b[32m369\u001b[39m     \u001b[38;5;28;01mwith\u001b[39;00m \u001b[38;5;28;43mopen\u001b[39;49m\u001b[43m(\u001b[49m\u001b[38;5;28;43mself\u001b[39;49m\u001b[43m.\u001b[49m\u001b[43mfilename\u001b[49m\u001b[43m,\u001b[49m\u001b[43m \u001b[49m\u001b[38;5;28;43mself\u001b[39;49m\u001b[43m.\u001b[49m\u001b[43m_read_flags\u001b[49m\u001b[43m,\u001b[49m\u001b[43m \u001b[49m\u001b[43mencoding\u001b[49m\u001b[43m=\u001b[49m\u001b[43mencoding\u001b[49m\u001b[43m)\u001b[49m \u001b[38;5;28;01mas\u001b[39;00m f:\n\u001b[32m    370\u001b[39m         \u001b[38;5;28mself\u001b[39m.data = f.read()\n\u001b[32m    371\u001b[39m \u001b[38;5;28;01melif\u001b[39;00m \u001b[38;5;28mself\u001b[39m.url \u001b[38;5;129;01mis\u001b[39;00m \u001b[38;5;129;01mnot\u001b[39;00m \u001b[38;5;28;01mNone\u001b[39;00m:\n\u001b[32m    372\u001b[39m     \u001b[38;5;66;03m# Deferred import\u001b[39;00m\n",
      "\u001b[31mFileNotFoundError\u001b[39m: [Errno 2] No such file or directory: 'robozinho_consultor.png'"
     ]
    }
   ],
   "source": [
    "from IPython.display import display, Image\n",
    "\n",
    "aceitou = input(\"Deseja investir R$ 200 no Tesouro Selic? (s/n): \")\n",
    "if aceitou.lower() == 's':\n",
    "    display(Image(filename=\"robozinho_consultor.png\"))  # Substitua com o nome correto do arquivo\n",
    "    saldo -= 200  # exemplo de aplicação do valor"
   ]
  },
  {
   "cell_type": "markdown",
   "id": "d54bc8f8",
   "metadata": {},
   "source": []
  }
 ],
 "metadata": {
  "kernelspec": {
   "display_name": "Python 3",
   "language": "python",
   "name": "python3"
  },
  "language_info": {
   "codemirror_mode": {
    "name": "ipython",
    "version": 3
   },
   "file_extension": ".py",
   "mimetype": "text/x-python",
   "name": "python",
   "nbconvert_exporter": "python",
   "pygments_lexer": "ipython3",
   "version": "3.13.3"
  }
 },
 "nbformat": 4,
 "nbformat_minor": 5
}
